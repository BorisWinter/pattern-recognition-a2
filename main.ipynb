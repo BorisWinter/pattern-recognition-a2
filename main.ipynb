{
 "cells": [
  {
   "cell_type": "markdown",
   "metadata": {},
   "source": [
    "## Main pipeline\n",
    "The entire pipeline should be runnable from here.\n",
    "\n",
    "### Genes data\n",
    "**Raw genes data**\n",
    "- Data is expected to be in *raw_data/genes/data.csv*\n",
    "- Labels are expected to be in *raw_data/genes/labels.csv*\n",
    "\n",
    "### Image data\n",
    "**Raw image data**\n",
    "- Animal images are expected to be in *raw_data/BigCats/[Animal]/*\n",
    "\n",
    "### Feature selection\n",
    "- Feature selection functions can be found in ...\n",
    "\n",
    "### Classification\n",
    "- Classification functions can be found in *classification/[function].py*\n",
    "\n",
    "### Clustering\n",
    "- Clustering functions can be found in *clustering/[function].py*\n",
    "\n",
    "### Data augmentation\n",
    "- Data augmentation functions can be found in ...\n",
    "\n",
    "\n"
   ]
  },
  {
   "cell_type": "code",
   "execution_count": 5,
   "metadata": {},
   "outputs": [],
   "source": [
    "# Ignore SKlearn's deprecation warnings\n",
    "import warnings\n",
    "warnings.filterwarnings(\"ignore\", category=DeprecationWarning)\n",
    "\n",
    "# Data imports\n",
    "from raw_data.data_functions import load_num_data, load_img_data\n",
    "\n",
    "# Feature selection imports\n",
    "from feature_selection.pca import pca\n",
    "\n",
    "# Classification imports\n",
    "from classification.knn import knn, knn_gridsearch\n"
   ]
  },
  {
   "cell_type": "code",
   "execution_count": 6,
   "metadata": {},
   "outputs": [
    {
     "data": {
      "text/html": [
       "<div>\n",
       "<style scoped>\n",
       "    .dataframe tbody tr th:only-of-type {\n",
       "        vertical-align: middle;\n",
       "    }\n",
       "\n",
       "    .dataframe tbody tr th {\n",
       "        vertical-align: top;\n",
       "    }\n",
       "\n",
       "    .dataframe thead th {\n",
       "        text-align: right;\n",
       "    }\n",
       "</style>\n",
       "<table border=\"1\" class=\"dataframe\">\n",
       "  <thead>\n",
       "    <tr style=\"text-align: right;\">\n",
       "      <th></th>\n",
       "      <th>param_n_neighbors</th>\n",
       "      <th>mean_train_score</th>\n",
       "      <th>mean_test_score</th>\n",
       "      <th>mean_fit_time</th>\n",
       "      <th>std_fit_time</th>\n",
       "      <th>mean_score_time</th>\n",
       "      <th>std_score_time</th>\n",
       "      <th>params</th>\n",
       "      <th>split0_test_score</th>\n",
       "      <th>split1_test_score</th>\n",
       "      <th>...</th>\n",
       "      <th>split1_train_score</th>\n",
       "      <th>split2_train_score</th>\n",
       "      <th>split3_train_score</th>\n",
       "      <th>split4_train_score</th>\n",
       "      <th>split5_train_score</th>\n",
       "      <th>split6_train_score</th>\n",
       "      <th>split7_train_score</th>\n",
       "      <th>split8_train_score</th>\n",
       "      <th>split9_train_score</th>\n",
       "      <th>std_train_score</th>\n",
       "    </tr>\n",
       "  </thead>\n",
       "  <tbody>\n",
       "    <tr>\n",
       "      <th>0</th>\n",
       "      <td>1</td>\n",
       "      <td>1.000000</td>\n",
       "      <td>0.217647</td>\n",
       "      <td>0.002199</td>\n",
       "      <td>0.000748</td>\n",
       "      <td>0.002899</td>\n",
       "      <td>0.000831</td>\n",
       "      <td>{'n_neighbors': 1}</td>\n",
       "      <td>0.235294</td>\n",
       "      <td>0.176471</td>\n",
       "      <td>...</td>\n",
       "      <td>1.00000</td>\n",
       "      <td>1.000000</td>\n",
       "      <td>1.000000</td>\n",
       "      <td>1.000000</td>\n",
       "      <td>1.000000</td>\n",
       "      <td>1.000000</td>\n",
       "      <td>1.00000</td>\n",
       "      <td>1.000000</td>\n",
       "      <td>1.000000</td>\n",
       "      <td>0.000000</td>\n",
       "    </tr>\n",
       "    <tr>\n",
       "      <th>1</th>\n",
       "      <td>2</td>\n",
       "      <td>0.565359</td>\n",
       "      <td>0.217647</td>\n",
       "      <td>0.001900</td>\n",
       "      <td>0.000539</td>\n",
       "      <td>0.002299</td>\n",
       "      <td>0.000458</td>\n",
       "      <td>{'n_neighbors': 2}</td>\n",
       "      <td>0.294118</td>\n",
       "      <td>0.411765</td>\n",
       "      <td>...</td>\n",
       "      <td>0.48366</td>\n",
       "      <td>0.594771</td>\n",
       "      <td>0.581699</td>\n",
       "      <td>0.581699</td>\n",
       "      <td>0.535948</td>\n",
       "      <td>0.588235</td>\n",
       "      <td>0.54902</td>\n",
       "      <td>0.568627</td>\n",
       "      <td>0.594771</td>\n",
       "      <td>0.032712</td>\n",
       "    </tr>\n",
       "  </tbody>\n",
       "</table>\n",
       "<p>2 rows × 31 columns</p>\n",
       "</div>"
      ],
      "text/plain": [
       "  param_n_neighbors  mean_train_score  mean_test_score  mean_fit_time  \\\n",
       "0                 1          1.000000         0.217647       0.002199   \n",
       "1                 2          0.565359         0.217647       0.001900   \n",
       "\n",
       "   std_fit_time  mean_score_time  std_score_time              params  \\\n",
       "0      0.000748         0.002899        0.000831  {'n_neighbors': 1}   \n",
       "1      0.000539         0.002299        0.000458  {'n_neighbors': 2}   \n",
       "\n",
       "   split0_test_score  split1_test_score  ...  split1_train_score  \\\n",
       "0           0.235294           0.176471  ...             1.00000   \n",
       "1           0.294118           0.411765  ...             0.48366   \n",
       "\n",
       "   split2_train_score  split3_train_score  split4_train_score  \\\n",
       "0            1.000000            1.000000            1.000000   \n",
       "1            0.594771            0.581699            0.581699   \n",
       "\n",
       "   split5_train_score  split6_train_score  split7_train_score  \\\n",
       "0            1.000000            1.000000             1.00000   \n",
       "1            0.535948            0.588235             0.54902   \n",
       "\n",
       "   split8_train_score  split9_train_score  std_train_score  \n",
       "0            1.000000            1.000000         0.000000  \n",
       "1            0.568627            0.594771         0.032712  \n",
       "\n",
       "[2 rows x 31 columns]"
      ]
     },
     "execution_count": 6,
     "metadata": {},
     "output_type": "execute_result"
    }
   ],
   "source": [
    "# Tests\n",
    "data, labels = load_img_data()\n",
    "pca_data = pca(data)\n",
    "knn_gridsearch(pca_data, labels, [1,2])"
   ]
  },
  {
   "cell_type": "markdown",
   "metadata": {},
   "source": [
    "# Mutual Information and SVM"
   ]
  },
  {
   "cell_type": "code",
   "execution_count": 1,
   "metadata": {},
   "outputs": [],
   "source": [
    "\n",
    "# Data imports\n",
    "from raw_data.data_load_MI_SVM import load_genes_data#, load_img_data\n",
    "\n",
    "# Feature selection imports\n",
    "from feature_selection.MI import MI_feature_select\n",
    "\n",
    "# Classification imports\n",
    "from classification.svm import svm_genes"
   ]
  },
  {
   "cell_type": "code",
   "execution_count": 2,
   "metadata": {},
   "outputs": [
    {
     "name": "stdout",
     "output_type": "stream",
     "text": [
      "load data start\n",
      "load data succ\n",
      "feature selection start\n"
     ]
    },
    {
     "name": "stderr",
     "output_type": "stream",
     "text": [
      "C:\\Users\\yunmeng\\AppData\\Local\\Programs\\Python\\Python38\\lib\\site-packages\\sklearn\\utils\\validation.py:993: DataConversionWarning: A column-vector y was passed when a 1d array was expected. Please change the shape of y to (n_samples, ), for example using ravel().\n",
      "  y = column_or_1d(y, warn=True)\n"
     ]
    },
    {
     "name": "stdout",
     "output_type": "stream",
     "text": [
      "478 features whose MI score over threshold are selected from 20531 features\n",
      "feature selection end\n",
      "svm train start\n",
      "accuracy on the training subset:1.000\n",
      "accuracy on the test subset:0.994\n"
     ]
    },
    {
     "name": "stderr",
     "output_type": "stream",
     "text": [
      "C:\\Users\\yunmeng\\AppData\\Local\\Programs\\Python\\Python38\\lib\\site-packages\\sklearn\\utils\\validation.py:993: DataConversionWarning: A column-vector y was passed when a 1d array was expected. Please change the shape of y to (n_samples, ), for example using ravel().\n",
      "  y = column_or_1d(y, warn=True)\n"
     ]
    }
   ],
   "source": [
    "featr_nohead,lbs_noH=load_genes_data()\n",
    "Feat_slct=MI_feature_select(featr_nohead,lbs_noH)\n",
    "svm_genes(Feat_slct,lbs_noH)"
   ]
  }
 ],
 "metadata": {
  "interpreter": {
   "hash": "42518a910d49e1bcbec57022f51c626a2b80126feae2f4ee4e7dd882ffabe5bf"
  },
  "kernelspec": {
   "display_name": "Python 3 (ipykernel)",
   "language": "python",
   "name": "python3"
  },
  "language_info": {
   "codemirror_mode": {
    "name": "ipython",
    "version": 3
   },
   "file_extension": ".py",
   "mimetype": "text/x-python",
   "name": "python",
   "nbconvert_exporter": "python",
   "pygments_lexer": "ipython3",
   "version": "3.8.8"
  }
 },
 "nbformat": 4,
 "nbformat_minor": 2
}
