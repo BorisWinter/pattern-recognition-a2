{
 "cells": [
  {
   "cell_type": "markdown",
   "metadata": {},
   "source": [
    "# Pattern Recognition pipeline\n",
    "The entire pipeline should be runnable from here.\n",
    "\n",
    "### Genes data\n",
    "**Raw genes data**\n",
    "- Data is expected to be in *raw_data/genes/data.csv*\n",
    "- Labels are expected to be in *raw_data/genes/labels.csv*\n",
    "\n",
    "### Image data\n",
    "**Raw image data**\n",
    "- Animal images are expected to be in *raw_data/BigCats/[Animal]/*\n",
    "\n",
    "### Feature selection\n",
    "- Feature selection functions can be found in *feature_selection/[function].py*\n",
    "\n",
    "### Classification\n",
    "- Classification functions can be found in *classification/[function].py*\n",
    "\n",
    "### Clustering\n",
    "- Clustering functions can be found in *clustering/[function].py*"
   ]
  },
  {
   "cell_type": "markdown",
   "metadata": {},
   "source": [
    "# Code\n"
   ]
  },
  {
   "cell_type": "code",
   "execution_count": 1,
   "metadata": {},
   "outputs": [],
   "source": [
    "## Import ALL required imports\n",
    "\n",
    "# Ignore SKlearn's deprecation warnings\n",
    "import warnings\n",
    "warnings.filterwarnings(\"ignore\", category=DeprecationWarning)\n",
    "\n",
    "# Data imports\n",
    "from raw_data.data_functions import load_num_data, load_img_data\n",
    "from raw_data.data_load_MI_SVM import getImageData\n",
    "\n",
    "# Feature selection imports\n",
    "from feature_selection.pca import pca\n",
    "from feature_selection.MI import MI_feature_select\n",
    "from feature_selection.fourier_transform import ft_on_img_data\n",
    "from feature_selection.edge_detection import edge_detection\n",
    "\n",
    "# Classification imports\n",
    "from classification.knn import knn, knn_gridsearch, knn_cross_validation\n",
    "from classification.svm import svm_genes,svm_images,svm_images_gridsearch,svm_images_cross_val\n",
    "from classification.decision_tree import decision_tree, cross_val_decision_tree\n",
    "from classification.naivebayes import naive_bayes, naive_bayes_cv\n",
    "from classification.logistic_regression import logistic_regression, logistic_regression_cross_validation, logistic_regression_gridsearch\n",
    "\n",
    "# Clustering imports\n",
    "from clustering.kmeans import kmeans_train\n",
    "from clustering.fuzzy_c_means import fuzzy_c_means # pip install fuzzy-c-means\n",
    "\n",
    "# Misc imports\n",
    "from sklearn.model_selection import train_test_split\n",
    "from visualization.visualization import create_conf_matrix\n",
    "from visualization.visualization import simple_pca_line_plot\n",
    "from visualization.visualization import plot_tsne_num\n",
    "from visualization.visualization import plot_tsne_img\n",
    "from sklearn.manifold import TSNE"
   ]
  },
  {
   "cell_type": "markdown",
   "metadata": {},
   "source": [
    "## Load Data"
   ]
  },
  {
   "cell_type": "code",
   "execution_count": 2,
   "metadata": {},
   "outputs": [
    {
     "name": "stdout",
     "output_type": "stream",
     "text": [
      "Loading num data...\n",
<<<<<<< HEAD
      "Loading img data...\n"
=======
      "Loading img data...\n",
      "Loading augmented img data...\n"
>>>>>>> f68cf42424b88dc64c11f879ef4b9ee2b721afab
     ]
    }
   ],
   "source": [
    "print(\"Loading num data...\")\n",
    "num_data, num_labels = load_num_data()\n",
    "print(\"Loading img data...\")\n",
    "img_data, img_labels = load_img_data()\n",
    "#print(\"Loading img2 data...\")\n",
    "#img_data_k, img_labels_k = getImageData(\"../Data-211216/Data/BigCats/\" )  "
   ]
  },
  {
   "cell_type": "markdown",
   "metadata": {},
   "source": [
    "## Visualize Data\n",
    "**Create t-SNE embeddings**"
   ]
  },
  {
   "cell_type": "code",
   "execution_count": 12,
   "metadata": {},
   "outputs": [],
   "source": [
    "num_data_embedded = TSNE(n_components=2, learning_rate='auto', init='random', random_state=0).fit_transform(num_data)\n",
    "img_data_embedded = TSNE(n_components=2, learning_rate='auto', init='random', random_state=0).fit_transform(img_data)"
   ]
  },
  {
   "cell_type": "markdown",
   "metadata": {},
   "source": [
    "**Plot the t-SNE embeddings**"
   ]
  },
  {
   "cell_type": "code",
   "execution_count": 15,
   "metadata": {},
   "outputs": [],
   "source": [
    "# Genes data\n",
    "# title = \"t-SNE visualization of the Genes data\"\n",
    "# xlabel = \"t-SNE dimension 1\"\n",
    "# ylabel = \"t-SNE dimension 2\"\n",
    "# plot_tsne_num(num_data_embedded, num_labels, title, xlabel, ylabel)\n",
    "\n",
    "# BigCats data\n",
    "# title = \"t-SNE visualization of the BigCats data\"\n",
    "# xlabel = \"t-SNE dimension 1\"\n",
    "# ylabel = \"t-SNE dimension 2\"\n",
    "# plot_tsne_img(img_data_embedded, img_labels, title, xlabel, ylabel)"
   ]
  },
  {
   "cell_type": "markdown",
   "metadata": {},
   "source": [
    "## Feature Extraction"
   ]
  },
  {
   "cell_type": "markdown",
   "metadata": {},
   "source": [
    "### PCA\n",
    "**Apply PCA to the Genes data**"
   ]
  },
  {
   "cell_type": "code",
   "execution_count": 6,
   "metadata": {},
   "outputs": [],
   "source": [
    "pca_model, pca_num_data = pca(num_data.iloc[:,1:])\n",
    "\n",
    "# Plot the cumulative variance explained per number of principal components\n",
    "# simple_pca_line_plot(\n",
    "#     pca_model.explained_variance_ratio_.cumsum()[:], \n",
    "#     title=\"Cum. variance explained / # principal components\",\n",
    "#     ylabel=\"Ratio of variance explained\")"
   ]
  },
  {
   "cell_type": "markdown",
   "metadata": {},
   "source": [
    "**Perform PCA experiment with k-NN**"
   ]
  },
  {
   "cell_type": "code",
   "execution_count": 11,
   "metadata": {},
   "outputs": [],
   "source": [
    "# Result storage\n",
    "pca_knn_res = []\n",
    "\n",
    "# Perform cross-validated k-NN for each possible number of components\n",
    "for num_components in range(1,802):\n",
    "    selected_data = pca_num_data.iloc[:,:num_components]\n",
    "    acc, f1 = knn_cross_validation(selected_data, num_labels[1], 3)\n",
    "    pca_knn_res.append(acc)\n",
    "\n",
    "# Plot the result\n",
    "# simple_pca_line_plot(\n",
    "#     pca_knn_res[:], \n",
    "#     title=\"Test accuracy per number of principal components\",\n",
    "#     ylabel=\"Test accuracy\")"
   ]
  },
  {
   "cell_type": "markdown",
   "metadata": {},
   "source": [
    "**Reduce PCA data to the most useful components (=79)**"
   ]
  },
  {
   "cell_type": "code",
   "execution_count": 7,
   "metadata": {},
   "outputs": [
    {
     "ename": "AttributeError",
     "evalue": "'tuple' object has no attribute 'iloc'",
     "output_type": "error",
     "traceback": [
      "\u001b[1;31m---------------------------------------------------------------------------\u001b[0m",
      "\u001b[1;31mAttributeError\u001b[0m                            Traceback (most recent call last)",
      "\u001b[1;32m<ipython-input-7-05ea5ca0a4a3>\u001b[0m in \u001b[0;36m<module>\u001b[1;34m\u001b[0m\n\u001b[1;32m----> 1\u001b[1;33m \u001b[0mpca_num_data_red\u001b[0m \u001b[1;33m=\u001b[0m \u001b[0mpca_num_data\u001b[0m\u001b[1;33m.\u001b[0m\u001b[0miloc\u001b[0m\u001b[1;33m[\u001b[0m\u001b[1;33m:\u001b[0m\u001b[1;33m,\u001b[0m\u001b[1;33m:\u001b[0m\u001b[1;36m80\u001b[0m\u001b[1;33m]\u001b[0m\u001b[1;33m\u001b[0m\u001b[1;33m\u001b[0m\u001b[0m\n\u001b[0m",
      "\u001b[1;31mAttributeError\u001b[0m: 'tuple' object has no attribute 'iloc'"
     ]
    }
   ],
   "source": [
    "pca_num_data_red = pca_num_data.iloc[:,:80]"
   ]
  },
  {
   "cell_type": "markdown",
   "metadata": {},
   "source": [
    "### MI"
   ]
  },
  {
   "cell_type": "code",
   "execution_count": null,
   "metadata": {},
   "outputs": [
    {
     "name": "stdout",
     "output_type": "stream",
     "text": [
      "feature selection start\n",
      "Feature drop\n"
     ]
    },
    {
     "name": "stderr",
     "output_type": "stream",
     "text": [
      "/home/abe/.local/lib/python3.8/site-packages/sklearn/utils/validation.py:993: DataConversionWarning: A column-vector y was passed when a 1d array was expected. Please change the shape of y to (n_samples, ), for example using ravel().\n",
      "  y = column_or_1d(y, warn=True)\n"
     ]
    },
    {
     "name": "stdout",
     "output_type": "stream",
     "text": [
      "477 features whose MI score over threshold are selected from 20531 features\n",
      "feature selection end\n"
     ]
    }
   ],
   "source": [
    "\n",
    "mi_num_data=MI_feature_select(num_data,num_labels,thre=0.5)"
   ]
  },
  {
   "cell_type": "markdown",
   "metadata": {},
   "source": [
    "### SIFT"
   ]
  },
  {
   "cell_type": "code",
   "execution_count": null,
   "metadata": {},
   "outputs": [],
   "source": []
  },
  {
   "cell_type": "markdown",
   "metadata": {},
   "source": [
    "### Fourier"
   ]
  },
  {
   "cell_type": "code",
   "execution_count": 5,
   "metadata": {},
   "outputs": [],
   "source": [
    "ft_img_data = ft_on_img_data(img_data)"
   ]
  },
  {
   "cell_type": "markdown",
   "metadata": {},
   "source": [
    "### Contour Images"
   ]
  },
  {
   "cell_type": "code",
   "execution_count": 6,
   "metadata": {},
   "outputs": [],
   "source": [
    "edge_img_data = edge_detection(img_data)"
   ]
  },
  {
   "cell_type": "markdown",
   "metadata": {},
   "source": [
    "## Classification"
   ]
  },
  {
   "cell_type": "markdown",
   "metadata": {},
   "source": [
    "### k-NN - Genes - 80/20 split\n",
    "**Raw data (best k = 15 [0.998090, 0.998437])**"
   ]
  },
  {
   "cell_type": "code",
   "execution_count": 32,
   "metadata": {},
   "outputs": [
    {
     "name": "stdout",
     "output_type": "stream",
     "text": [
      "Accuracy = 0.9937888198757764 - F1-score = 0.993758020635491\n"
     ]
    }
   ],
   "source": [
    "# Create the 80/20 split\n",
    "x_train, x_test, y_train, y_test = train_test_split(num_data, num_labels, test_size=0.2, random_state=42, stratify=num_labels)\n",
    "\n",
    "# Tune k using gridsearch on the train set\n",
    "# knn_gridsearch(x_train, y_train[1], [k for k in range(1,21,2)])\n",
    "\n",
    "# Train using the optimal k (=5) and test on the test set\n",
    "acc, f1, pred_labels = knn(x_train, y_train[1], x_test, y_test[1], k=15)\n",
    "print(f'Accuracy = {acc} - F1-score = {f1}')\n",
    "\n",
    "# Show a confusion matrix\n",
    "# create_conf_matrix(y_test[1], pred_labels,  title=\"k-NN predictions using raw data\")"
   ]
  },
  {
   "cell_type": "markdown",
   "metadata": {},
   "source": [
    "**PCA (best k = 13 [0.998785, 0.998437])**"
   ]
  },
  {
   "cell_type": "code",
   "execution_count": 35,
   "metadata": {},
   "outputs": [
    {
     "name": "stdout",
     "output_type": "stream",
     "text": [
      "Accuracy = 0.9813664596273292 - F1-score = 0.9811987061061624\n"
     ]
    }
   ],
   "source": [
    "# Create the 80/20 split\n",
    "x_train, x_test, y_train, y_test = train_test_split(pca_num_data_red, num_labels, test_size=0.2, random_state=42, stratify=num_labels)\n",
    "\n",
    "# Tune k using gridsearch on the train set\n",
    "# knn_gridsearch(x_train, y_train[1], [k for k in range(1,21,2)])\n",
    "\n",
    "# Train using the optimal k (=k) and test on the test set\n",
    "acc, f1, pred_labels = knn(x_train, y_train[1], x_test, y_test[1], k=13)\n",
    "print(f'Accuracy = {acc} - F1-score = {f1}')\n",
    "\n",
    "# Show a confusion matrix\n",
    "# create_conf_matrix(y_test[1], pred_labels,  title=\"k-NN predictions using PCA data\")"
   ]
  },
  {
   "cell_type": "markdown",
   "metadata": {},
   "source": [
    "**Mutual Information (best k = 5 [0.998437, 0.998437])**"
   ]
  },
  {
   "cell_type": "code",
   "execution_count": 34,
   "metadata": {},
   "outputs": [
    {
     "name": "stdout",
     "output_type": "stream",
     "text": [
      "Accuracy = 0.9937888198757764 - F1-score = 0.993758020635491\n"
     ]
    }
   ],
   "source": [
    "# Create the 80/20 split\n",
    "x_train, x_test, y_train, y_test = train_test_split(mi_num_data, num_labels, test_size=0.2, random_state=42, stratify=num_labels)\n",
    "\n",
    "# Tune k using gridsearch on the train set\n",
    "# knn_gridsearch(x_train, y_train[1], [k for k in range(1,21,2)])\n",
    "\n",
    "# Train using the optimal k (=k) and test on the test set\n",
    "acc, f1, pred_labels = knn(x_train, y_train[1], x_test, y_test[1], k=5)\n",
    "print(f'Accuracy = {acc} - F1-score = {f1}')\n",
    "\n",
    "# Show a confusion matrix\n",
    "# create_conf_matrix(y_test[1], pred_labels, title=\"k-NN predictions using MI data\")"
   ]
  },
  {
   "cell_type": "markdown",
   "metadata": {},
   "source": [
    "### k-NN - Genes - Cross Validation\n",
    "**Raw data (best k = 3,5,7,9 [0.998752, 0.998750])**"
   ]
  },
  {
   "cell_type": "code",
   "execution_count": 35,
   "metadata": {},
   "outputs": [
    {
     "name": "stdout",
     "output_type": "stream",
     "text": [
      "Accuracy = 0.99875 - F1-score = 0.9987370977534912\n"
     ]
    }
   ],
   "source": [
    "# Tune k using gridsearch on the entire data set\n",
    "# knn_gridsearch(num_data, num_labels[1], [k for k in range(1,21,2)])\n",
    "\n",
    "# Evaluate with the optimal k (=k) using cross validation\n",
    "acc, f1 = knn_cross_validation(num_data, num_labels[1], k=3)\n",
    "print(f'Accuracy = {acc} - F1-score = {f1}')"
   ]
  },
  {
   "cell_type": "markdown",
   "metadata": {},
   "source": [
    "**PCA (best k = 3 [0.997503, 0.997500])**"
   ]
  },
  {
   "cell_type": "code",
   "execution_count": 37,
   "metadata": {},
   "outputs": [
    {
     "name": "stdout",
     "output_type": "stream",
     "text": [
      "Accuracy = 0.9974999999999999 - F1-score = 0.9974441687344914\n"
     ]
    }
   ],
   "source": [
    "# Tune k using gridsearch on the entire data set\n",
    "# knn_gridsearch(pca_num_data_red, num_labels[1], [k for k in range(1,21,2)])\n",
    "\n",
    "# Evaluate with the optimal k (=k) using cross validation\n",
    "acc, f1 = knn_cross_validation(pca_num_data_red, num_labels[1], k=3)\n",
    "print(f'Accuracy = {acc} - F1-score = {f1}')"
   ]
  },
  {
   "cell_type": "markdown",
   "metadata": {},
   "source": [
    "**Mutual Information (best k = 5-19 [0.997503, 0.997500])**"
   ]
  },
  {
   "cell_type": "code",
   "execution_count": 37,
   "metadata": {},
   "outputs": [
    {
     "name": "stdout",
     "output_type": "stream",
     "text": [
      "Accuracy = 0.9974999999999999 - F1-score = 0.9974441687344914\n"
     ]
    }
   ],
   "source": [
    "# Tune k using gridsearch on the entire data set\n",
    "# knn_gridsearch(mi_num_data, num_labels[1], [k for k in range(1,21,2)])\n",
    "\n",
    "# Evaluate with the optimal k (=k) using cross validation\n",
    "acc, f1 = knn_cross_validation(mi_num_data, num_labels[1], k=5)\n",
    "print(f'Accuracy = {acc} - F1-score = {f1}')"
   ]
  },
  {
   "cell_type": "markdown",
   "metadata": {},
   "source": [
    "### k-NN - BigCats - 80/20 split\n",
    "**Raw data (best k = 3 [0.520405, 0.235714])**"
   ]
  },
  {
   "cell_type": "code",
   "execution_count": 38,
   "metadata": {},
   "outputs": [
    {
     "name": "stdout",
     "output_type": "stream",
     "text": [
      "Accuracy = 0.17647058823529413 - F1-score = 0.16657329598506068\n"
     ]
    }
   ],
   "source": [
    "# Create the 80/20 split\n",
    "x_train, x_test, y_train, y_test = train_test_split(img_data, img_labels, test_size=0.2, random_state=42, stratify=img_labels)\n",
    "\n",
    "# Tune k using gridsearch on the train set\n",
    "# knn_gridsearch(x_train, y_train, [k for k in range(1,21,2)])\n",
    "\n",
    "# Train using the optimal k (=k) and test on the test set\n",
    "acc, f1, pred_labels = knn(x_train, y_train, x_test, y_test, k=3)\n",
    "print(f'Accuracy = {acc} - F1-score = {f1}')\n",
    "\n",
    "# Show a confusion matrix\n",
    "# create_conf_matrix(y_test, pred_labels, title=\"k-NN predictions using raw data\")"
   ]
  },
  {
   "cell_type": "markdown",
   "metadata": {},
   "source": [
    "**SIFT (best k = k)**"
   ]
  },
  {
   "cell_type": "code",
   "execution_count": null,
   "metadata": {},
   "outputs": [],
   "source": [
    "# # Create the 80/20 split\n",
    "# x_train, x_test, y_train, y_test = train_test_split(ft_img_data, img_labels, test_size=0.2, random_state=42, stratify=img_labels)\n",
    "\n",
    "# # Tune k using gridsearch on the train set\n",
    "# # knn_gridsearch(x_train, y_train, [k for k in range(1,21,2)])\n",
    "\n",
    "# # Train using the optimal k (=5) and test on the test set\n",
    "# acc, f1, pred_labels = knn(x_train, y_train, x_test, y_test, k=17)\n",
    "\n",
    "# # Show a confusion matrix\n",
    "# create_conf_matrix(y_test, pred_labels, title=\"k-NN predictions using SIFT data\")"
   ]
  },
  {
   "cell_type": "markdown",
   "metadata": {},
   "source": [
    "**Fourier (best k = 17 [0.361922, 0.300549])**"
   ]
  },
  {
   "cell_type": "code",
   "execution_count": 39,
   "metadata": {},
   "outputs": [
    {
     "name": "stdout",
     "output_type": "stream",
     "text": [
      "Accuracy = 0.4411764705882353 - F1-score = 0.3927932576539388\n"
     ]
    }
   ],
   "source": [
    "# Create the 80/20 split\n",
    "x_train, x_test, y_train, y_test = train_test_split(ft_img_data, img_labels, test_size=0.2, random_state=42, stratify=img_labels)\n",
    "\n",
    "# Tune k using gridsearch on the train set\n",
    "# knn_gridsearch(x_train, y_train, [k for k in range(1,21,2)])\n",
    "\n",
    "# Train using the optimal k (=5) and test on the test set\n",
    "acc, f1, pred_labels = knn(x_train, y_train, x_test, y_test, k=17)\n",
    "print(f'Accuracy = {acc} - F1-score = {f1}')\n",
    "\n",
    "# Show a confusion matrix\n",
    "# create_conf_matrix(y_test, pred_labels, title=\"k-NN predictions using FT data\")"
   ]
  },
  {
   "cell_type": "markdown",
   "metadata": {},
   "source": [
    "### k-NN - BigCats - Cross Validation\n",
    "**Raw data (best k = 7 [0.384967, 0.247059])**"
   ]
  },
  {
   "cell_type": "code",
   "execution_count": 40,
   "metadata": {},
   "outputs": [
    {
     "name": "stdout",
     "output_type": "stream",
     "text": [
      "Accuracy = 0.24705882352941178 - F1-score = 0.2068569992099404\n"
     ]
    }
   ],
   "source": [
    "# Tune k using gridsearch on the entire data set\n",
    "# knn_gridsearch(img_data, img_labels, [k for k in range(1,21,2)])\n",
    "\n",
    "# Evaluate with the optimal k (=k) using cross validation\n",
    "acc, f1 = knn_cross_validation(img_data, img_labels, k=7)\n",
    "print(f'Accuracy = {acc} - F1-score = {f1}')"
   ]
  },
  {
   "cell_type": "markdown",
   "metadata": {},
   "source": [
    "**SIFT (best k = k)**"
   ]
  },
  {
   "cell_type": "code",
   "execution_count": null,
   "metadata": {},
   "outputs": [],
   "source": []
  },
  {
   "cell_type": "markdown",
   "metadata": {},
   "source": [
    "**Fourier (best k = 13 [0.425490, 0.382353])**"
   ]
  },
  {
   "cell_type": "code",
   "execution_count": 41,
   "metadata": {},
   "outputs": [
    {
     "name": "stdout",
     "output_type": "stream",
     "text": [
      "Accuracy = 0.38235294117647056 - F1-score = 0.33473941091588155\n"
     ]
    }
   ],
   "source": [
    "# Tune k using gridsearch on the entire data set\n",
    "# knn_gridsearch(ft_img_data, img_labels, [k for k in range(1,21,2)])\n",
    "\n",
    "# Evaluate with the optimal k (=k) using cross validation\n",
    "acc, f1 = knn_cross_validation(ft_img_data, img_labels, k=13)\n",
    "print(f'Accuracy = {acc} - F1-score = {f1}')"
   ]
  },
  {
   "cell_type": "markdown",
   "metadata": {},
   "source": [
    "### Logistic Regression - BigCats - 80/20\n",
    "**Raw data (best solver = lbfgs, best C = 1)**"
   ]
  },
  {
   "cell_type": "code",
   "execution_count": 14,
   "metadata": {},
   "outputs": [
    {
     "name": "stdout",
     "output_type": "stream",
     "text": [
      "Accuracy = 0.3235294117647059 - F1-score = 0.29150326797385623\n"
     ]
    }
   ],
   "source": [
    "# Create the 80/20 split\n",
    "x_train, x_test, y_train, y_test = train_test_split(img_data, img_labels, test_size=0.2, random_state=42, stratify=img_labels)\n",
    "\n",
    "# Tune k using gridsearch on the train set\n",
    "# solvers = [\"newton-cg\", \"lbfgs\", \"liblinear\"]\n",
    "# c_values = [0.1, 1, 10, 100]\n",
    "# logistic_regression_gridsearch(x_train, y_train, solvers, c_values)\n",
    "\n",
    "# Train using the optimal k (=k) and test on the test set\n",
    "acc, f1, pred_labels = logistic_regression(x_train, y_train, x_test, y_test, solver=\"lbfgs\", c_value=1)\n",
    "print(f'Accuracy = {acc} - F1-score = {f1}')\n",
    "\n",
    "# Show a confusion matrix\n",
    "# create_conf_matrix(y_test, pred_labels, title=\"Logistic regression predictions using raw data\")"
   ]
  },
  {
   "cell_type": "markdown",
   "metadata": {},
   "source": [
    "**SIFT (best solver = x, best C = y)**"
   ]
  },
  {
   "cell_type": "code",
   "execution_count": null,
   "metadata": {},
   "outputs": [],
   "source": [
    "# # Create the 80/20 split\n",
    "# x_train, x_test, y_train, y_test = train_test_split(sift_img_data, img_labels, test_size=0.2, random_state=42, stratify=img_labels)\n",
    "\n",
    "# # Tune k using gridsearch on the train set\n",
    "# solvers = [\"newton-cg\", \"lbfgs\", \"liblinear\", \"sag\", \"saga\"]\n",
    "# c_values = [0.0001, 0.001, 0.1, 1, 10, 100, 1000, 10000]\n",
    "# logistic_regression_gridsearch(x_train, y_train, solvers, c_values)\n",
    "\n",
    "# # Train using the optimal k (=k) and test on the test set\n",
    "# # acc, f1, pred_labels = logistic_regression(x_train, y_train, x_test, y_test, solver=\"newton-cg\", c_value=10)\n",
    "# # print(f'Accuracy = {acc} - F1-score = {f1}')\n",
    "\n",
    "# # Show a confusion matrix\n",
    "# # create_conf_matrix(y_test, pred_labels, title=\"Logistic regression predictions using raw data\")"
   ]
  },
  {
   "cell_type": "markdown",
   "metadata": {},
   "source": [
    "**Fourier (best solver = liblinear, best C = 0.1)**"
   ]
  },
  {
   "cell_type": "code",
   "execution_count": 4,
   "metadata": {},
   "outputs": [
    {
     "name": "stdout",
     "output_type": "stream",
     "text": [
      "Accuracy = 0.4411764705882353 - F1-score = 0.4169185460745563\n"
     ]
    }
   ],
   "source": [
    "# Create the 80/20 split\n",
    "x_train, x_test, y_train, y_test = train_test_split(ft_img_data, img_labels, test_size=0.2, random_state=42, stratify=img_labels)\n",
    "\n",
    "# Tune k using gridsearch on the train set\n",
    "# solvers = [\"newton-cg\", \"lbfgs\", \"liblinear\"]\n",
    "# c_values = [0.1, 1, 10, 100]\n",
    "# logistic_regression_gridsearch(x_train, y_train, solvers, c_values)\n",
    "\n",
    "# Train using the optimal k (=k) and test on the test set\n",
    "acc, f1, pred_labels = logistic_regression(x_train, y_train, x_test, y_test, solver=\"liblinear\", c_value=0.1)\n",
    "print(f'Accuracy = {acc} - F1-score = {f1}')\n",
    "\n",
    "# Show a confusion matrix\n",
    "# create_conf_matrix(y_test, pred_labels, title=\"Logistic regression predictions using FT data\")"
   ]
  },
  {
   "cell_type": "markdown",
   "metadata": {},
   "source": [
    "### Logistic Regression - BigCats - Cross Validation\n",
    "**Raw data  (best solver = liblinear, best C = 0.1)**"
   ]
  },
  {
   "cell_type": "code",
   "execution_count": 4,
   "metadata": {},
   "outputs": [
    {
     "name": "stdout",
     "output_type": "stream",
     "text": [
      "Accuracy = 0.27647058823529413 - F1-score = 0.25509506833036244\n"
     ]
    }
   ],
   "source": [
    "# Tune the solver and C parameters using gridsearch on the entire data set\n",
    "# solvers = [\"newton-cg\", \"lbfgs\", \"liblinear\"]\n",
    "# c_values = [0.1, 1, 10, 100]\n",
    "# logistic_regression_gridsearch(img_data, img_labels, solvers, c_values)\n",
    "\n",
    "# Evaluate with the optimal k (=k) using cross validation\n",
    "acc, f1 = logistic_regression_cross_validation(img_data, img_labels, solver=\"liblinear\", c_value=0.1)\n",
    "print(f'Accuracy = {acc} - F1-score = {f1}')"
   ]
  },
  {
   "cell_type": "markdown",
   "metadata": {},
   "source": [
    "**SIFT  (best solver = x, best C = y)**"
   ]
  },
  {
   "cell_type": "code",
   "execution_count": null,
   "metadata": {},
   "outputs": [],
   "source": [
    "# # Tune the solver and C parameters using gridsearch on the entire data set\n",
    "# solvers = [\"newton-cg\", \"lbfgs\", \"liblinear\", \"sag\", \"saga\"]\n",
    "# c_values = [0.1, 1, 10, 100]\n",
    "# logistic_regression_gridsearch(sift_img_data, img_labels, solvers, c_values)\n",
    "\n",
    "# # Evaluate with the optimal k (=k) using cross validation\n",
    "# acc, f1 = logistic_regression_cross_validation(sift_img_data, img_labels, solver=\"\", c_value=10)\n",
    "# print(f'Accuracy = {acc} - F1-score = {f1}')"
   ]
  },
  {
   "cell_type": "markdown",
   "metadata": {},
   "source": [
    "**Fourier (best solver = linear, best C = 0.1)**"
   ]
  },
  {
   "cell_type": "code",
   "execution_count": 5,
   "metadata": {},
   "outputs": [
    {
     "name": "stdout",
     "output_type": "stream",
     "text": [
      "Accuracy = 0.39999999999999997 - F1-score = 0.35637000254647316\n"
     ]
    }
   ],
   "source": [
    "# Tune the solver and C parameters using gridsearch on the entire data set\n",
    "# solvers = [\"newton-cg\", \"lbfgs\", \"liblinear\"]\n",
    "# c_values = [0.1, 1, 10, 100]\n",
    "# logistic_regression_gridsearch(ft_img_data, img_labels, solvers, c_values)\n",
    "\n",
    "# Evaluate with the optimal k (=k) using cross validation\n",
    "acc, f1 = logistic_regression_cross_validation(ft_img_data, img_labels, solver=\"liblinear\", c_value=0.1)\n",
    "print(f'Accuracy = {acc} - F1-score = {f1}')"
   ]
  },
  {
   "cell_type": "markdown",
   "metadata": {},
   "source": [
    "### Naive Bayes"
   ]
  },
  {
   "cell_type": "markdown",
   "metadata": {},
   "source": [
    "#### 80/20 split"
   ]
  },
  {
   "cell_type": "code",
   "execution_count": 5,
   "metadata": {},
   "outputs": [
    {
     "name": "stdout",
     "output_type": "stream",
     "text": [
      "using naive bayes classifier on genes raw\n",
      "test accuracy & f1: (0.7763975155279503, 0.7686930460843504)\n",
      "using naive bayes classifier on genes PCA\n",
      "test accuracy & f1: (0.4409937888198758, 0.4141130626398182)\n",
      "using naive bayes classifier on genes MI\n",
      "test accuracy & f1: (0.9875776397515528, 0.987559956650937)\n"
     ]
    }
   ],
   "source": [
    "print(\"using naive bayes classifier on genes raw\")\n",
    "accuracy, f1_score, y_pred = naive_bayes(num_data, num_labels)\n",
    "print(f\"test accuracy & f1: {accuracy, f1_score}\")\n",
    "\n",
    "print(\"using naive bayes classifier on genes PCA\")\n",
    "accuracy, f1_score, y_pred = naive_bayes(pca_num_data, num_labels)\n",
    "print(f\"test accuracy & f1: {accuracy, f1_score}\")\n",
    "\n",
    "print(\"using naive bayes classifier on genes MI\")\n",
    "accuracy, f1_score, y_pred = naive_bayes(mi_num_data, num_labels)\n",
    "print(f\"test accuracy & f1: {accuracy, f1_score}\")"
   ]
  },
  {
   "cell_type": "markdown",
   "metadata": {},
   "source": [
    "#### K-fold"
   ]
  },
  {
   "cell_type": "code",
   "execution_count": 6,
   "metadata": {},
   "outputs": [
    {
     "name": "stdout",
     "output_type": "stream",
     "text": [
      "using naive bayes classifier on genes raw\n",
      "test accuracy & f1: (0.7839197530864197, 0.7705244483882223)\n",
      "using naive bayes classifier on genes PCA\n",
      "test accuracy & f1: (0.4632407407407408, 0.43937517021245637)\n",
      "using naive bayes classifier on genes MI\n",
      "test accuracy & f1: (0.9775308641975309, 0.9774553923451761)\n"
     ]
    }
   ],
   "source": [
    "print(\"using naive bayes classifier on genes raw\")\n",
    "accuracy, f1_score = naive_bayes_cv(num_data, num_labels, cv=10)\n",
    "print(f\"test accuracy & f1: {accuracy, f1_score}\")\n",
    "\n",
    "print(\"using naive bayes classifier on genes PCA\")\n",
    "accuracy, f1_score = naive_bayes_cv(pca_num_data, num_labels, cv=10)\n",
    "print(f\"test accuracy & f1: {accuracy, f1_score}\")\n",
    "\n",
    "print(\"using naive bayes classifier on genes MI\")\n",
    "accuracy, f1_score = naive_bayes_cv(mi_num_data, num_labels, cv=10)\n",
    "print(f\"test accuracy & f1: {accuracy, f1_score}\")"
   ]
  },
  {
   "cell_type": "markdown",
   "metadata": {},
   "source": [
    "### Decision Trees"
   ]
  },
  {
   "cell_type": "markdown",
   "metadata": {},
   "source": [
    "#### Parameter Sweep"
   ]
  },
  {
   "cell_type": "code",
   "execution_count": 7,
   "metadata": {},
   "outputs": [
    {
     "name": "stdout",
     "output_type": "stream",
     "text": [
      "Performing parameter sweep...\n",
      "Running new data...\n",
      "[0.9875776397515528, 0.8944099378881988, 0.9875776397515528, 0.9875776397515528, 0.9565217391304348, 0.9813664596273292, 0.9565217391304348, 0.9875776397515528, 0.968944099378882, 0.9751552795031055, 0.9751552795031055, 0.9751552795031055, 0.9565217391304348, 0.9875776397515528, 0.9565217391304348, 0.9627329192546584]\n",
      "test accuracy: 0.9875776397515528 for index 0\n",
      "Running new data...\n",
      "[0.9875776397515528, 0.8944099378881988, 0.9875776397515528, 0.9875776397515528, 0.9565217391304348, 0.9813664596273292, 0.9565217391304348, 0.9875776397515528, 0.968944099378882, 0.9751552795031055, 0.9751552795031055, 0.9751552795031055, 0.9565217391304348, 0.9875776397515528, 0.9565217391304348, 0.9627329192546584, 0.9751552795031055, 0.8944099378881988, 0.9937888198757764, 0.9751552795031055, 0.9565217391304348, 0.9565217391304348, 0.9503105590062112, 0.9875776397515528, 0.9813664596273292, 0.968944099378882, 0.9813664596273292, 0.9937888198757764, 0.9565217391304348, 0.968944099378882, 0.9813664596273292, 0.968944099378882]\n",
      "test accuracy: 0.9937888198757764 for index 18\n",
      "Running new data...\n",
      "[0.9875776397515528, 0.8944099378881988, 0.9875776397515528, 0.9875776397515528, 0.9565217391304348, 0.9813664596273292, 0.9565217391304348, 0.9875776397515528, 0.968944099378882, 0.9751552795031055, 0.9751552795031055, 0.9751552795031055, 0.9565217391304348, 0.9875776397515528, 0.9565217391304348, 0.9627329192546584, 0.9751552795031055, 0.8944099378881988, 0.9937888198757764, 0.9751552795031055, 0.9565217391304348, 0.9565217391304348, 0.9503105590062112, 0.9875776397515528, 0.9813664596273292, 0.968944099378882, 0.9813664596273292, 0.9937888198757764, 0.9565217391304348, 0.968944099378882, 0.9813664596273292, 0.968944099378882, 0.9813664596273292, 0.8819875776397516, 0.9627329192546584, 0.9813664596273292, 0.9627329192546584, 0.968944099378882, 0.9627329192546584, 0.9751552795031055, 0.9751552795031055, 0.9627329192546584, 0.9813664596273292, 0.9565217391304348, 0.9751552795031055, 0.968944099378882, 0.968944099378882, 0.9751552795031055]\n",
      "test accuracy: 0.9937888198757764 for index 18\n"
     ]
    }
   ],
   "source": [
    "print(\"Performing parameter sweep...\")\n",
    "accuracies = []\n",
    "datas = [num_data, pca_num_data, mi_num_data]\n",
    "depths = [3,4,5,6,7,8,9,10]\n",
    "calculation = [\"entropy\", \"gini\"]\n",
    "for data in datas:\n",
    "    print(f\"Running new data...\")\n",
    "    for depth in depths:\n",
    "        for calc in calculation:\n",
    "            print(f\"Trying max depth of {depth} with {calc}...\", end='\\r')\n",
    "            accuracies.append(decision_tree(num_data, num_labels, depth=depth, calculation=calc)[0])\n",
    "    \n",
    "    print(accuracies)\n",
    "    print(f\"test accuracy: {max(accuracies)} for index {accuracies.index(max(accuracies))}\")"
   ]
  },
  {
   "cell_type": "markdown",
   "metadata": {},
   "source": [
    "#### 80/20 split"
   ]
  },
  {
   "cell_type": "code",
   "execution_count": 10,
   "metadata": {},
   "outputs": [
    {
     "name": "stdout",
     "output_type": "stream",
     "text": [
      "using decision tree classifier on genes raw\n",
      "test accuracy & f1: (0.9813664596273292, 0.981386992454186)\n",
      "using decision tree classifier on genes PCA\n",
      "test accuracy & f1: (0.9006211180124224, 0.898379039885027)\n",
      "using decision tree classifier on genes MI\n",
      "test accuracy & f1: (0.9751552795031055, 0.9753293590801105)\n"
     ]
    }
   ],
   "source": [
    "# Raw data\n",
    "print(\"using decision tree classifier on genes raw\")\n",
    "accuracy, f1_score, y_pred = decision_tree(num_data, num_labels, depth=best_depth)\n",
    "print(f\"test accuracy & f1: {accuracy, f1_score}\")\n",
    "#create_conf_matrix(num_labels, y_pred)\n",
    "\n",
    "# PCA data\n",
    "print(\"using decision tree classifier on genes PCA\")\n",
    "accuracy, f1_score, y_pred = decision_tree(pca_num_data, num_labels, depth=best_depth)\n",
    "print(f\"test accuracy & f1: {accuracy, f1_score}\")\n",
    "#create_conf_matrix(num_labels, y_pred)\n",
    "\n",
    "# MI data\n",
    "print(\"using decision tree classifier on genes MI\")\n",
    "accuracy, f1_score, y_pred = decision_tree(mi_num_data, num_labels, depth=best_depth)\n",
    "print(f\"test accuracy & f1: {accuracy, f1_score}\")\n",
    "#create_conf_matrix(num_labels, y_pred)\n",
    "\n"
   ]
  },
  {
   "cell_type": "markdown",
   "metadata": {},
   "source": [
    "#### K-fold"
   ]
  },
  {
   "cell_type": "code",
   "execution_count": 14,
   "metadata": {},
   "outputs": [
    {
     "name": "stdout",
     "output_type": "stream",
     "text": [
      "using decision tree classifier on genes raw with 10-fold\n",
      "0.980 test accuracy with a standard deviation of 0.000\n",
      "0.980 test f1 with a standard deviation of 0.000\n",
      "using decision tree classifier on genes PCA with 10-fold\n",
      "0.916 test accuracy with a standard deviation of 0.000\n",
      "0.916 test f1 with a standard deviation of 0.000\n",
      "using decision tree classifier on genes MI with 10-fold\n",
      "0.984 test accuracy with a standard deviation of 0.000\n",
      "0.984 test f1 with a standard deviation of 0.000\n"
     ]
    }
   ],
   "source": [
    "k = 10\n",
    "# Raw data\n",
    "print(f\"using decision tree classifier on genes raw with {k}-fold\")\n",
    "accuracy, f1 = cross_val_decision_tree(num_data, num_labels, cv=k, depth=best_depth)\n",
    "print(\"%0.3f test accuracy with a standard deviation of %0.3f\" % (accuracy.mean(), accuracy.std()))\n",
    "print(\"%0.3f test f1 with a standard deviation of %0.3f\" % (f1.mean(), f1.std()))\n",
    "\n",
    "# PCA data\n",
    "print(f\"using decision tree classifier on genes PCA with {k}-fold\")\n",
    "accuracy, f1 = cross_val_decision_tree(pca_num_data, num_labels, cv=k, depth=best_depth)\n",
    "print(\"%0.3f test accuracy with a standard deviation of %0.3f\" % (accuracy.mean(), accuracy.std()))\n",
    "print(\"%0.3f test f1 with a standard deviation of %0.3f\" % (f1.mean(), f1.std()))\n",
    "\n",
    "# MI data\n",
    "print(f\"using decision tree classifier on genes MI with {k}-fold\")\n",
    "accuracy, f1 = cross_val_decision_tree(mi_num_data, num_labels, cv=k, depth=best_depth)\n",
    "print(\"%0.3f test accuracy with a standard deviation of %0.3f\" % (accuracy.mean(), accuracy.std()))\n",
    "print(\"%0.3f test f1 with a standard deviation of %0.3f\" % (f1.mean(), f1.std()))"
   ]
  },
  {
   "cell_type": "markdown",
   "metadata": {},
   "source": [
    "### Logistic Regression"
   ]
  },
  {
   "cell_type": "markdown",
   "metadata": {},
   "source": [
    "#### 80/20 split"
   ]
  },
  {
   "cell_type": "code",
   "execution_count": null,
   "metadata": {},
   "outputs": [],
   "source": []
  },
  {
   "cell_type": "markdown",
   "metadata": {},
   "source": [
    "#### K-fold"
   ]
  },
  {
   "cell_type": "code",
   "execution_count": null,
   "metadata": {},
   "outputs": [],
   "source": []
  },
  {
   "cell_type": "markdown",
   "metadata": {},
   "source": [
    "### SVM- BigCats - 80/20\n",
    "**Raw data (best C=10 kernel='rbf',gamma=0.001)**"
   ]
  },
  {
   "cell_type": "code",
   "execution_count": 3,
   "metadata": {},
   "outputs": [
    {
     "name": "stdout",
     "output_type": "stream",
     "text": [
      "svm train start\n",
      "new model saved\n",
      "accuracy on the training subset:0.978\n",
      "accuracy on the test subset:0.265\n",
      "Accuracy = 0.2647058823529412 - F1-score = 0.14695108812755872\n"
     ]
    }
   ],
   "source": [
    "#tuning hyperparameters using grid search\n",
    "#svm_images_gridsearch(img_data, img_labels)\n",
    "\n",
    "X_train, X_test, y_train, y_test = train_test_split(img_data, img_labels,test_size=0.2,random_state=77,stratify=img_labels)\n",
    "acc, f1, pred_labels =svm_images(X_train, X_test, y_train, y_test,C=10,kernel='rbf',gamma=0.001)\n",
    "print(f'Accuracy = {acc} - F1-score = {f1}')"
   ]
  },
  {
   "cell_type": "markdown",
   "metadata": {},
   "source": [
    "**SIFT  (best C=10 kernel='rbf',gamma=0.001)**"
   ]
  },
  {
   "cell_type": "code",
   "execution_count": null,
   "metadata": {},
   "outputs": [],
   "source": [
    "#tuning hyperparameters using grid search\n",
    "#svm_images_gridsearch()\n"
   ]
  },
  {
   "cell_type": "markdown",
   "metadata": {},
   "source": [
    "**Fourier (best C=10 kernel='rbf',gamma=0.001)**"
   ]
  },
  {
   "cell_type": "code",
   "execution_count": 6,
   "metadata": {},
   "outputs": [
    {
     "name": "stdout",
     "output_type": "stream",
     "text": [
      "svm train start\n",
      "new model saved\n",
      "accuracy on the training subset:0.978\n",
      "accuracy on the test subset:0.265\n",
      "Accuracy = 0.2647058823529412 - F1-score = 0.14695108812755872\n"
     ]
    }
   ],
   "source": [
    "\n",
    "#tuning hyperparameters using grid search\n",
    "#svm_images_gridsearch(ft_img_data, img_labels)\n",
    "\n",
    "X_train, X_test, y_train, y_test = train_test_split(ft_img_data, img_labels,test_size=0.2,random_state=77,stratify=img_labels)\n",
    "acc, f1, pred_labels =svm_images(X_train, X_test, y_train, y_test,C=10,kernel='rbf',gamma=0.001)\n",
    "print(f'Accuracy = {acc} - F1-score = {f1}')"
   ]
  },
  {
   "cell_type": "markdown",
   "metadata": {},
   "source": [
    "### SVM - BigCats - Cross Validation\n",
    "**Raw data  (best C=10 kernel='rbf',gamma=0.001)**"
   ]
  },
  {
   "cell_type": "code",
   "execution_count": 4,
   "metadata": {},
   "outputs": [
    {
     "name": "stdout",
     "output_type": "stream",
     "text": [
      "svm train start\n",
      "Accuracy = 0.24705882352941178 - F1-score = 0.1196152290843826\n"
     ]
    }
   ],
   "source": [
    "# Evaluate with the optimal hyperparameters using cross validation\n",
    "acc, f1 = svm_images_cross_val(img_data, img_labels,n_splits = 5,C=10,kernel='rbf',gamma=0.001)\n",
    "print(f'Accuracy = {acc} - F1-score = {f1}')"
   ]
  },
  {
   "cell_type": "markdown",
   "metadata": {},
   "source": [
    "**SIFT  (best C=10 kernel='rbf',gamma=0.001)**"
   ]
  },
  {
   "cell_type": "code",
   "execution_count": null,
   "metadata": {},
   "outputs": [],
   "source": [
    "#tuning hyperparameters using grid search\n",
    "#svm_images_gridsearch()\n"
   ]
  },
  {
   "cell_type": "markdown",
   "metadata": {},
   "source": [
    "**Fourier (best C=10 kernel='rbf',gamma=0.001)**"
   ]
  },
  {
   "cell_type": "code",
   "execution_count": 8,
   "metadata": {},
   "outputs": [
    {
     "name": "stdout",
     "output_type": "stream",
     "text": [
      "svm train start\n",
      "Accuracy = 0.24705882352941178 - F1-score = 0.1196152290843826\n"
     ]
    }
   ],
   "source": [
    "# Evaluate with the optimal hyperparameters using cross validation\n",
    "acc, f1 = svm_images_cross_val(ft_img_data, img_labels,n_splits = 5,C=10,kernel='rbf',gamma=0.001)\n",
    "print(f'Accuracy = {acc} - F1-score = {f1}')"
   ]
  },
  {
   "cell_type": "markdown",
   "metadata": {},
   "source": [
    "## Clustering"
   ]
  },
  {
   "cell_type": "markdown",
   "metadata": {},
   "source": [
    "### K-Means"
   ]
  },
  {
   "cell_type": "code",
   "execution_count": 7,
   "metadata": {},
   "outputs": [
    {
     "name": "stdout",
     "output_type": "stream",
     "text": [
      "IMG RAW\n",
      "silhouette score: 0.057595269039851384\n",
      "adjusted random index score: -0.006899736431280642\n",
      "adjusted MI score: -0.012670191797653475\n",
      "\n",
      "IMG SIFT\n",
      "TODO\n",
      "\n",
      "IMG FT\n",
      "silhouette score: 0.021264641463138355\n",
      "adjusted random index score: 0.0035568045615904597\n",
      "adjusted MI score: 0.0026949906207888435\n",
      "\n",
      "IMG EDGE\n",
      "silhouette score: 0.006681742558229103\n",
      "adjusted random index score: 0.0355692010131043\n",
      "adjusted MI score: 0.05278897193173156\n",
      "\n"
     ]
    }
   ],
   "source": [
    "print(\"IMG RAW\")\n",
    "sil_score, rand_score, mi_score = kmeans_train(img_data, img_labels, clusters=5)\n",
    "print(f\"silhouette score: {sil_score}\\nadjusted random index score: {rand_score}\\nadjusted MI score: {mi_score}\\n\")\n",
    "\n",
    "print(\"IMG SIFT\")\n",
    "print(\"TODO\\n\")\n",
    "#sil_score, rand_score, mi_score = kmeans_train(img_data, img_labels, clusters=5)\n",
    "#print(f\"silhouette score: {sil_score}\\nadjusted random index score: {rand_score}\\nadjusted MI score: {mi_score}\\n\")\n",
    "\n",
    "print(\"IMG FT\")\n",
    "sil_score, rand_score, mi_score = kmeans_train(ft_img_data, img_labels, clusters=5)\n",
    "print(f\"silhouette score: {sil_score}\\nadjusted random index score: {rand_score}\\nadjusted MI score: {mi_score}\\n\")\n",
    "\n",
    "print(\"IMG EDGE\")\n",
    "sil_score, rand_score, mi_score = kmeans_train(edge_img_data, img_labels, clusters=5)\n",
    "print(f\"silhouette score: {sil_score}\\nadjusted random index score: {rand_score}\\nadjusted MI score: {mi_score}\\n\")"
   ]
  },
  {
   "cell_type": "markdown",
   "metadata": {},
   "source": [
    "### Fuzzy C-Means"
   ]
  },
  {
   "cell_type": "code",
   "execution_count": 5,
   "metadata": {},
   "outputs": [
    {
     "name": "stdout",
     "output_type": "stream",
     "text": [
      "RAW NUM\n",
      "fcm.partition_coefficient=0.0277777777777963\n",
      "fcm.partition_entropy_coefficient=0.43082708345344584\n",
      "sil_score=0.12509058271419637\n",
      "rand_score=0.43369128112283734\n",
      "mi_score=0.5272661373730181\n",
      "PCA NUM\n",
      "fcm.partition_coefficient=0.027777777777783775\n",
      "fcm.partition_entropy_coefficient=0.43082708345350007\n",
      "sil_score=-0.054262671534210556\n",
      "rand_score=0.24541954115124226\n",
      "mi_score=0.34928937684053885\n",
      "MI NUM\n",
      "fcm.partition_coefficient=0.027777777777920645\n",
      "fcm.partition_entropy_coefficient=0.4308270834529077\n",
      "sil_score=0.1168901506483442\n",
      "rand_score=0.25306790493760717\n",
      "mi_score=0.3842072432081306\n"
     ]
    },
    {
     "data": {
      "text/plain": [
       "(0.1168901506483442, 0.25306790493760717, 0.3842072432081306)"
      ]
     },
     "execution_count": 5,
     "metadata": {},
     "output_type": "execute_result"
    }
   ],
   "source": [
    "\n",
    "print(\"RAW NUM\")\n",
    "fuzzy_c_means(num_data, num_labels, 6)\n",
    "print(\"PCA NUM\")\n",
    "fuzzy_c_means(pca_num_data, num_labels, 6)\n",
    "print(\"MI NUM\")\n",
    "fuzzy_c_means(mi_num_data, num_labels, 6)\n",
    "\n",
    "\n"
   ]
  },
  {
   "cell_type": "markdown",
   "metadata": {},
   "source": [
    "# Augmented Image dataset"
   ]
  },
  {
   "cell_type": "code",
   "execution_count": 3,
   "metadata": {},
   "outputs": [
    {
     "name": "stdout",
     "output_type": "stream",
     "text": [
      "Loading augmented img data...\n"
     ]
    }
   ],
   "source": [
    "from raw_data.data_functions import load_augmented_img_data\n",
    "\n",
    "print(\"Loading augmented img data...\")\n",
    "aug_img_data, aug_img_labels = load_img_data()"
   ]
  },
  {
   "cell_type": "code",
   "execution_count": 4,
   "metadata": {},
   "outputs": [],
   "source": [
    "from feature_selection.fourier_transform import ft_on_img_data\n",
    "aug_ft_img_data = ft_on_img_data(aug_img_data)"
   ]
  },
  {
   "cell_type": "code",
   "execution_count": 7,
   "metadata": {},
   "outputs": [
    {
     "name": "stdout",
     "output_type": "stream",
     "text": [
      "-- Running RAW data\n",
      "IMG RAW - acc: 0.17647058823529413, f1: 0.1684854937450093\n"
     ]
    },
    {
     "data": {
      "image/png": "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",
      "text/plain": [
       "<Figure size 720x720 with 1 Axes>"
      ]
     },
     "metadata": {},
     "output_type": "display_data"
    }
   ],
   "source": [
    "from classification.logistic_regression import logistic_regression\n",
    "from visualization.visualization import create_conf_matrix\n",
    "print(\"-- Running RAW data\")\n",
    "x_train, x_test, y_train, y_test = train_test_split(aug_img_data,\n",
    "                                                    aug_img_labels,\n",
    "                                                    test_size=0.2,\n",
    "                                                    random_state=42,\n",
    "                                                    stratify=aug_img_labels)\n",
    "\n",
    "acc, f1, pred_labels = logistic_regression(x_train, y_train, x_test, y_test, solver=\"liblinear\", c_value=0.1)\n",
    "print(f\"IMG RAW - acc: {acc}, f1: {f1}\")\n",
    "create_conf_matrix(y_test, pred_labels, title=\"Logistic regression predictions using augmented data\")"
   ]
  },
  {
   "cell_type": "code",
   "execution_count": 8,
   "metadata": {},
   "outputs": [
    {
     "name": "stdout",
     "output_type": "stream",
     "text": [
      "-- Running RAW data\n",
      "IMG FT - acc: 0.35294117647058826, f1: 0.3230073847720907\n"
     ]
    },
    {
     "data": {
      "image/png": "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",
      "text/plain": [
       "<Figure size 720x720 with 1 Axes>"
      ]
     },
     "metadata": {},
     "output_type": "display_data"
    }
   ],
   "source": [
    "print(\"-- Running FT data\")\n",
    "x_train, x_test, y_train, y_test = train_test_split(aug_ft_img_data,\n",
    "                                                    aug_img_labels,\n",
    "                                                    test_size=0.2,\n",
    "                                                    random_state=42,\n",
    "                                                    stratify=aug_img_labels)\n",
    "\n",
    "acc, f1, pred_labels = logistic_regression(x_train, y_train, x_test, y_test, solver=\"liblinear\", c_value=0.1)\n",
    "print(f\"IMG FT - acc: {acc}, f1: {f1}\")\n",
    "create_conf_matrix(y_test, pred_labels, title=\"Logistic regression predictions using augmented FT data\")"
   ]
  },
  {
   "cell_type": "markdown",
   "metadata": {},
   "source": [
    "-----------------------------------------------------\n",
    "*end*"
   ]
  }
 ],
 "metadata": {
  "interpreter": {
   "hash": "42518a910d49e1bcbec57022f51c626a2b80126feae2f4ee4e7dd882ffabe5bf"
  },
  "kernelspec": {
   "display_name": "Python 3 (ipykernel)",
   "language": "python",
   "name": "python3"
  },
  "language_info": {
   "codemirror_mode": {
    "name": "ipython",
    "version": 3
   },
   "file_extension": ".py",
   "mimetype": "text/x-python",
   "name": "python",
   "nbconvert_exporter": "python",
   "pygments_lexer": "ipython3",
<<<<<<< HEAD
   "version": "3.8.8"
=======
   "version": "3.8.10"
>>>>>>> f68cf42424b88dc64c11f879ef4b9ee2b721afab
  }
 },
 "nbformat": 4,
 "nbformat_minor": 2
}
