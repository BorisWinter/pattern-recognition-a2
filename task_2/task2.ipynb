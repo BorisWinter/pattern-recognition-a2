{
 "cells": [
  {
   "cell_type": "code",
   "execution_count": 1,
   "metadata": {},
   "outputs": [],
   "source": [
    "\"\"\"\n",
    "Imports\n",
    "\"\"\"\n",
    "import pandas as pd\n",
    "import os\n",
    "from imblearn.under_sampling import RandomUnderSampler\n",
    "from imblearn.over_sampling import SMOTE\n",
    "from sklearn.model_selection import train_test_split\n",
    "from sklearn.neighbors import KNeighborsClassifier\n",
    "from sklearn.model_selection import KFold\n",
    "from sklearn.model_selection import GridSearchCV\n",
    "from sklearn.metrics import accuracy_score, f1_score\n",
    "from sklearn.semi_supervised import LabelPropagation\n",
    "from imblearn.pipeline import Pipeline"
   ]
  },
  {
   "cell_type": "code",
   "execution_count": 2,
   "metadata": {},
   "outputs": [],
   "source": [
    "def knn_gridsearch(data, labels, k_range, n_splits = 10):\n",
    "    \"\"\"\n",
    "    knn_gridsearch()\n",
    "     - Performs gridsearch for kNN on the given data.\n",
    "    \"\"\"\n",
    "\n",
    "    # Create dataframe for storage\n",
    "    knn_results = pd.DataFrame([], columns = [\"param_n_neighbors\", \"mean_train_score\", \"mean_test_score\"])\n",
    "\n",
    "    # Cross validation settings\n",
    "    kf = KFold(n_splits = n_splits, random_state = 1, shuffle=True)\n",
    "\n",
    "    # Define the model\n",
    "    knn_model = KNeighborsClassifier()\n",
    "    parameters = {'n_neighbors': k_range}\n",
    "\n",
    "    clf = GridSearchCV(knn_model, parameters, cv=kf, return_train_score=True, scoring=[\"f1\", \"accuracy\"], refit=False)\n",
    "    clf.fit(data, labels)\n",
    "\n",
    "    df = pd.DataFrame(clf.cv_results_)\n",
    "    knn_results = pd.concat([knn_results,df])\n",
    "    knn_results = knn_results.sort_values(by=['mean_test_score'], ascending=False)\n",
    "\n",
    "    return knn_results\n",
    "\n",
    "def knn(train_data, train_labels, test_data, test_labels, k=3):\n",
    "    \"\"\"\n",
    "    Performs kNN on the given data.\n",
    "    \"\"\"\n",
    "\n",
    "    neighbours = KNeighborsClassifier(n_neighbors=k)\n",
    "    neighbours.fit(train_data, train_labels)\n",
    "    pred_labels = neighbours.predict(test_data)\n",
    "\n",
    "    acc = accuracy_score(test_labels, pred_labels)\n",
    "    f1 = f1_score(test_labels, pred_labels)\n",
    "\n",
    "    return acc, f1"
   ]
  },
  {
   "cell_type": "code",
   "execution_count": 3,
   "metadata": {},
   "outputs": [],
   "source": [
    "def labelPropagation(train_data, train_labels, test_data, test_labels, k):\n",
    "\n",
    "    # Create and fit the model\n",
    "    lp = LabelPropagation(kernel = \"knn\", n_neighbors=k)\n",
    "    lp.fit(train_data, train_labels)\n",
    "\n",
    "    # Predict on the test data\n",
    "    pred_labels = lp.predict(test_data)\n",
    "    acc = accuracy_score(test_labels, pred_labels)\n",
    "    f1 = f1_score(test_labels, pred_labels)\n",
    "\n",
    "    return acc, f1, lp.transduction_"
   ]
  },
  {
   "cell_type": "code",
   "execution_count": 4,
   "metadata": {},
   "outputs": [],
   "source": [
    "\"\"\"\n",
    "Data loading\n",
    "\"\"\"\n",
    "file_dir = os.getcwd()\n",
    "data_path = os.path.join(file_dir, 'data/creditcard.csv')\n",
    "raw_data = pd.read_csv(data_path)"
   ]
  },
  {
   "cell_type": "code",
   "execution_count": 10,
   "metadata": {},
   "outputs": [],
   "source": [
    "\"\"\"\n",
    "Preprocessing\n",
    "\"\"\"\n",
    "\n",
    "# Split labels and drop unnecessary columns\n",
    "y = raw_data[\"Class\"]\n",
    "x = raw_data.drop(columns=[\"Time\", \"Amount\", \"Class\"])\n",
    "\n",
    "# Balance data using a combination of SMOTE and random undersampling\n",
    "rus = RandomUnderSampler(random_state=0, sampling_strategy=1)\n",
    "smote = SMOTE(random_state=0, sampling_strategy=0.1)\n",
    "pipeline = Pipeline([(\"smote\", smote), (\"rus\", rus)])\n",
    "x_balanced, y_balanced = pipeline.fit_resample(x,y)\n",
    "\n",
    "# Split data into 80% train / 20% test\n",
    "x_train, x_test, y_train, y_test = train_test_split(x_balanced, y_balanced, test_size=0.2, random_state=0, stratify=y_balanced)\n",
    "\n",
    "# Split train data into 30% labeled / 70% unlabeled\n",
    "x_train_lab, x_train_unlab, y_train_lab, y_train_unlab = train_test_split(x_train, y_train, test_size=0.7, random_state=0, stratify=y_train)\n",
    "\n",
    "# Create the data and labels for the semi-supervised learning set\n",
    "x_train_lab_unlab = pd.concat([x_train_lab, x_train_unlab])\n",
    "y_train_unlab = pd.Series([-1 for i in y_train_unlab])\n",
    "y_train_lab_unlab = pd.concat([y_train_lab, y_train_unlab])"
   ]
  },
  {
   "cell_type": "code",
   "execution_count": 11,
   "metadata": {},
   "outputs": [
    {
     "data": {
      "text/html": [
       "<div>\n",
       "<style scoped>\n",
       "    .dataframe tbody tr th:only-of-type {\n",
       "        vertical-align: middle;\n",
       "    }\n",
       "\n",
       "    .dataframe tbody tr th {\n",
       "        vertical-align: top;\n",
       "    }\n",
       "\n",
       "    .dataframe thead th {\n",
       "        text-align: right;\n",
       "    }\n",
       "</style>\n",
       "<table border=\"1\" class=\"dataframe\">\n",
       "  <thead>\n",
       "    <tr style=\"text-align: right;\">\n",
       "      <th></th>\n",
       "      <th>param_n_neighbors</th>\n",
       "      <th>mean_train_accuracy</th>\n",
       "      <th>mean_test_accuracy</th>\n",
       "      <th>mean_train_f1</th>\n",
       "      <th>mean_test_f1</th>\n",
       "    </tr>\n",
       "  </thead>\n",
       "  <tbody>\n",
       "    <tr>\n",
       "      <th>0</th>\n",
       "      <td>1</td>\n",
       "      <td>1.000000</td>\n",
       "      <td>0.993478</td>\n",
       "      <td>1.000000</td>\n",
       "      <td>0.993515</td>\n",
       "    </tr>\n",
       "    <tr>\n",
       "      <th>1</th>\n",
       "      <td>3</td>\n",
       "      <td>0.994276</td>\n",
       "      <td>0.989227</td>\n",
       "      <td>0.994308</td>\n",
       "      <td>0.989325</td>\n",
       "    </tr>\n",
       "    <tr>\n",
       "      <th>2</th>\n",
       "      <td>5</td>\n",
       "      <td>0.990286</td>\n",
       "      <td>0.985930</td>\n",
       "      <td>0.990377</td>\n",
       "      <td>0.986101</td>\n",
       "    </tr>\n",
       "    <tr>\n",
       "      <th>3</th>\n",
       "      <td>7</td>\n",
       "      <td>0.987835</td>\n",
       "      <td>0.984318</td>\n",
       "      <td>0.987975</td>\n",
       "      <td>0.984517</td>\n",
       "    </tr>\n",
       "    <tr>\n",
       "      <th>4</th>\n",
       "      <td>9</td>\n",
       "      <td>0.985751</td>\n",
       "      <td>0.982485</td>\n",
       "      <td>0.985937</td>\n",
       "      <td>0.982726</td>\n",
       "    </tr>\n",
       "    <tr>\n",
       "      <th>5</th>\n",
       "      <td>11</td>\n",
       "      <td>0.984187</td>\n",
       "      <td>0.981020</td>\n",
       "      <td>0.984412</td>\n",
       "      <td>0.981289</td>\n",
       "    </tr>\n",
       "    <tr>\n",
       "      <th>6</th>\n",
       "      <td>13</td>\n",
       "      <td>0.982754</td>\n",
       "      <td>0.979921</td>\n",
       "      <td>0.983015</td>\n",
       "      <td>0.980210</td>\n",
       "    </tr>\n",
       "    <tr>\n",
       "      <th>7</th>\n",
       "      <td>15</td>\n",
       "      <td>0.981305</td>\n",
       "      <td>0.978382</td>\n",
       "      <td>0.981597</td>\n",
       "      <td>0.978723</td>\n",
       "    </tr>\n",
       "    <tr>\n",
       "      <th>8</th>\n",
       "      <td>17</td>\n",
       "      <td>0.979839</td>\n",
       "      <td>0.977356</td>\n",
       "      <td>0.980166</td>\n",
       "      <td>0.977739</td>\n",
       "    </tr>\n",
       "    <tr>\n",
       "      <th>9</th>\n",
       "      <td>19</td>\n",
       "      <td>0.979318</td>\n",
       "      <td>0.977430</td>\n",
       "      <td>0.979651</td>\n",
       "      <td>0.977792</td>\n",
       "    </tr>\n",
       "  </tbody>\n",
       "</table>\n",
       "</div>"
      ],
      "text/plain": [
       "  param_n_neighbors  mean_train_accuracy  mean_test_accuracy  mean_train_f1  \\\n",
       "0                 1             1.000000            0.993478       1.000000   \n",
       "1                 3             0.994276            0.989227       0.994308   \n",
       "2                 5             0.990286            0.985930       0.990377   \n",
       "3                 7             0.987835            0.984318       0.987975   \n",
       "4                 9             0.985751            0.982485       0.985937   \n",
       "5                11             0.984187            0.981020       0.984412   \n",
       "6                13             0.982754            0.979921       0.983015   \n",
       "7                15             0.981305            0.978382       0.981597   \n",
       "8                17             0.979839            0.977356       0.980166   \n",
       "9                19             0.979318            0.977430       0.979651   \n",
       "\n",
       "   mean_test_f1  \n",
       "0      0.993515  \n",
       "1      0.989325  \n",
       "2      0.986101  \n",
       "3      0.984517  \n",
       "4      0.982726  \n",
       "5      0.981289  \n",
       "6      0.980210  \n",
       "7      0.978723  \n",
       "8      0.977739  \n",
       "9      0.977792  "
      ]
     },
     "execution_count": 11,
     "metadata": {},
     "output_type": "execute_result"
    }
   ],
   "source": [
    "\"\"\"\n",
    "Perform gridsearch for the k-NN baseline model\n",
    "\"\"\"\n",
    "k_range = [k for k in range (1,21,2)]\n",
    "knn_results = knn_gridsearch(x_train_lab, y_train_lab, k_range, n_splits = 10)\n",
    "keep_columns = [\"param_n_neighbors\", \"mean_train_accuracy\", \"mean_test_accuracy\", \"mean_train_f1\", \"mean_test_f1\"]\n",
    "knn_results[keep_columns]"
   ]
  },
  {
   "cell_type": "code",
   "execution_count": 15,
   "metadata": {},
   "outputs": [
    {
     "name": "stdout",
     "output_type": "stream",
     "text": [
      "Accuracy = 0.9890090565374132\n",
      "f1 = 0.9891162385720506\n"
     ]
    }
   ],
   "source": [
    "\"\"\"\n",
    "Test the best k-NN model on the entire test set\n",
    "\"\"\"\n",
    "acc, f1 = knn(x_train_lab, y_train_lab, x_test, y_test, k=3)\n",
    "print(f'Accuracy = {acc}')\n",
    "print(f'f1 = {f1}')"
   ]
  },
  {
   "cell_type": "code",
   "execution_count": 18,
   "metadata": {},
   "outputs": [
    {
     "name": "stderr",
     "output_type": "stream",
     "text": [
      "C:\\Users\\Boris\\Anaconda3\\lib\\site-packages\\sklearn\\semi_supervised\\_label_propagation.py:222: RuntimeWarning: invalid value encountered in true_divide\n",
      "  probabilities /= normalizer\n",
      "C:\\Users\\Boris\\Anaconda3\\lib\\site-packages\\sklearn\\semi_supervised\\_label_propagation.py:222: RuntimeWarning: invalid value encountered in true_divide\n",
      "  probabilities /= normalizer\n",
      "C:\\Users\\Boris\\Anaconda3\\lib\\site-packages\\sklearn\\semi_supervised\\_label_propagation.py:222: RuntimeWarning: invalid value encountered in true_divide\n",
      "  probabilities /= normalizer\n",
      "C:\\Users\\Boris\\Anaconda3\\lib\\site-packages\\sklearn\\semi_supervised\\_label_propagation.py:222: RuntimeWarning: invalid value encountered in true_divide\n",
      "  probabilities /= normalizer\n"
     ]
    },
    {
     "name": "stdout",
     "output_type": "stream",
     "text": [
      "    k  test_acc   test_f1\n",
      "3   7  0.988921  0.988999\n",
      "4   9  0.988657  0.988776\n",
      "5  11  0.986811  0.986972\n",
      "6  13  0.986635  0.986801\n",
      "2   5  0.985316  0.985329\n",
      "7  15  0.985316  0.985517\n",
      "8  17  0.984261  0.984495\n",
      "9  19  0.983470  0.983729\n",
      "1   3  0.928867  0.924230\n",
      "0   1  0.657434  0.479979\n"
     ]
    },
    {
     "name": "stderr",
     "output_type": "stream",
     "text": [
      "C:\\Users\\Boris\\Anaconda3\\lib\\site-packages\\sklearn\\semi_supervised\\_label_propagation.py:222: RuntimeWarning: invalid value encountered in true_divide\n",
      "  probabilities /= normalizer\n"
     ]
    }
   ],
   "source": [
    "\"\"\"\n",
    "Find the optimal n_neighbors for labelPropagation\n",
    "\"\"\"\n",
    "\n",
    "lp_results = []\n",
    "\n",
    "for k in range(1,21,2):\n",
    "    acc, f1, labels = labelPropagation(x_train_lab_unlab, y_train_lab_unlab, x_test, y_test, k=k)\n",
    "    lp_results.append([k,acc,f1])\n",
    "\n",
    "print(pd.DataFrame(lp_results, columns=[\"k\", \"test_acc\", \"test_f1\"]).sort_values(by=\"test_acc\", ascending=False))\n",
    "\n",
    "# Perform best labelPropagation method and save the predicted labels\n",
    "acc, f1, model_labels = labelPropagation(x_train_lab_unlab, y_train_lab_unlab, x_test, y_test, k=5)"
   ]
  },
  {
   "cell_type": "code",
   "execution_count": 21,
   "metadata": {},
   "outputs": [
    {
     "data": {
      "text/plain": [
       "(0.9827662006506639, 0.9827434407466104)"
      ]
     },
     "execution_count": 21,
     "metadata": {},
     "output_type": "execute_result"
    }
   ],
   "source": [
    "\"\"\"\n",
    "Train k-NN on the entire training set along with the lp model labels\n",
    "\"\"\"\n",
    "\n",
    "knn(x_train_lab_unlab, model_labels, x_test, y_test, k=3)"
   ]
  }
 ],
 "metadata": {
  "interpreter": {
   "hash": "42518a910d49e1bcbec57022f51c626a2b80126feae2f4ee4e7dd882ffabe5bf"
  },
  "kernelspec": {
   "display_name": "Python 3.7.4 64-bit ('base': conda)",
   "language": "python",
   "name": "python3"
  },
  "language_info": {
   "codemirror_mode": {
    "name": "ipython",
    "version": 3
   },
   "file_extension": ".py",
   "mimetype": "text/x-python",
   "name": "python",
   "nbconvert_exporter": "python",
   "pygments_lexer": "ipython3",
   "version": "3.7.4"
  },
  "orig_nbformat": 4
 },
 "nbformat": 4,
 "nbformat_minor": 2
}
